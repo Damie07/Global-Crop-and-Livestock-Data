{
 "cells": [
  {
   "cell_type": "markdown",
   "id": "3cad9180",
   "metadata": {},
   "source": [
    "## Import Libraries "
   ]
  },
  {
   "cell_type": "code",
   "execution_count": 1,
   "id": "a33d54b0",
   "metadata": {},
   "outputs": [],
   "source": [
    "import pandas as pd\n",
    "import requests\n",
    "import zipfile\n",
    "from io import BytesIO"
   ]
  },
  {
   "cell_type": "markdown",
   "id": "7be66db0",
   "metadata": {},
   "source": [
    "## Set Display Options"
   ]
  },
  {
   "cell_type": "code",
   "execution_count": null,
   "id": "ba0655f4",
   "metadata": {},
   "outputs": [],
   "source": [
    "pd.options.display.width = 0"
   ]
  },
  {
   "cell_type": "markdown",
   "id": "534894bf",
   "metadata": {},
   "source": [
    "## Download and Extract Data"
   ]
  },
  {
   "cell_type": "code",
   "execution_count": null,
   "id": "b85a2fa0",
   "metadata": {},
   "outputs": [],
   "source": [
    "zip_url = \"https://fenixservices.fao.org/faostat/static/bulkdownloads/Production_Crops_Livestock_E_All_Data.zip\"\n",
    "\n",
    "# Name of the CSV file we want to extract from the zip file\n",
    "csv_filename_without_extension = \"Production_Crops_Livestock_E_All_Data_NOFLAG\"\n",
    "\n",
    "# HTTP GET request to download the zip file\n",
    "response = requests.get(zip_url)\n",
    "response.raise_for_status()\n",
    "\n",
    "# Extract the specific CSV file from the zip file\n",
    "with zipfile.ZipFile(BytesIO(response.content)) as zip_archive:\n",
    "    # Find the filename in the archive\n",
    "    for filename in zip_archive.namelist():\n",
    "        if csv_filename_without_extension in filename:\n",
    "            csv_filename = filename\n",
    "            break\n",
    "    else:\n",
    "        raise ValueError(f\"CSV file '{csv_filename_without_extension}' not found in the zip archive\")\n",
    "\n",
    "    with zip_archive.open(csv_filename) as csv_file:\n",
    "        # Read the content of the CSV file into a DataFrame\n",
    "        detected_encoding = \"ISO-8859-1\"  \n",
    "        df = pd.read_csv(csv_file, encoding=detected_encoding)"
   ]
  },
  {
   "cell_type": "markdown",
   "id": "69924376",
   "metadata": {},
   "source": [
    "## Exclude Years Before 2000"
   ]
  },
  {
   "cell_type": "code",
   "execution_count": null,
   "id": "fb7e64aa",
   "metadata": {},
   "outputs": [],
   "source": [
    " #Getting the column names, so I can exclude years before 2000\n",
    "column_names = df.columns\n",
    "\n",
    "# List of years to be excluded\n",
    "excluded_years = [f'Y{i}' for i in range(1961, 2000)]\n",
    "\n",
    "# Drop excluded years\n",
    "df = df.drop(columns=excluded_years)"
   ]
  },
  {
   "cell_type": "markdown",
   "id": "9daea2de",
   "metadata": {},
   "source": [
    "## Exclude Regions and Former Countries "
   ]
  },
  {
   "cell_type": "code",
   "execution_count": null,
   "id": "5584e8d6",
   "metadata": {},
   "outputs": [],
   "source": [
    "# Get the unique values in the \"Area\" column to see what countries I need to exclude\n",
    "countries_list = df['Area'].unique()\n",
    "\n",
    "# Print the list of countries\n",
    "for country in countries_list:\n",
    "    print(country)\n",
    "    \n",
    "# Making the exclusion list for Area\n",
    "regions_and_old_countries = ['Belgium-Luxembourg', 'China', 'Czechoslovakia','USSR', 'Yugoslav SFR', 'Serbia and Montenegro',\n",
    "                             'World','Africa', 'Eastern Africa','Middle Africa', 'Northern Africa', 'Southern Africa',\n",
    "                             'Western Africa', 'Americas', 'Northern America', 'Central America', 'Caribbean', 'South America',\n",
    "                             'Asia','Central Asia', 'Eastern Asia', 'Southern Asia', 'South-eastern Asia', 'Western Asia',\n",
    "                             'Europe', 'Eastern Europe', 'Northern Europe','Southern Europe', 'Western Europe','Oceania',\n",
    "                             'Australia and New Zealand','Melanesia', 'Micronesia', 'Polynesia', 'European Union (27)', \n",
    "                             'Least Developed Countries', 'Land Locked Developing Countries','Small Island Developing States',\n",
    "                             'Low Income Food Deficit Countries','Net Food Importing Developing Countries']\n",
    "# Filtering conditions\n",
    "conditions = (\n",
    "    (df['Element'] == 'Production') &\n",
    "    (df['Unit'] == 'tonnes') &\n",
    "    (~df['Area'].isin(regions_and_old_countries)))\n",
    "\n",
    "# Apply the conditions\n",
    "df = df[conditions]"
   ]
  },
  {
   "cell_type": "markdown",
   "id": "3b696ac7",
   "metadata": {},
   "source": [
    "## Melt DataFrame "
   ]
  },
  {
   "cell_type": "code",
   "execution_count": null,
   "id": "cdee5dcd",
   "metadata": {},
   "outputs": [],
   "source": [
    "# Melt the DataFrame from wide to long format\n",
    "years = [f'Y{i}' for i in range(2000, 2022)]\n",
    "df = pd.melt(df, id_vars=['Area Code', 'Area Code (M49)', 'Area', 'Item Code', 'Item',\n",
    "                          'Element Code', 'Element', 'Unit'], value_vars=years)"
   ]
  },
  {
   "cell_type": "markdown",
   "id": "69fbcaa2",
   "metadata": {},
   "source": [
    "## Consolidate Data for Sudan and Former Sudan"
   ]
  },
  {
   "cell_type": "code",
   "execution_count": null,
   "id": "d95bff60",
   "metadata": {},
   "outputs": [],
   "source": [
    "# Consolidate the data for Sudan and Former Sudan\n",
    "delete_years_sudan = [f'Y{i}' for i in range(2000, 2012)]\n",
    "delete_years_former_sudan = [f'Y{i}' for i in range(2012, 2022)]\n",
    "\n",
    "condition1 = ((df['Area'] == 'Sudan') & (df['variable'].isin(delete_years_sudan)))\n",
    "condition2 = ((df['Area'] == 'Sudan (former)') & (df['variable'].isin(delete_years_former_sudan)))\n",
    "\n",
    "combined_condition = condition1 | condition2\n",
    "\n",
    "rowstodelete = df[combined_condition]\n",
    "\n",
    "df = df[~combined_condition]\n",
    "\n",
    "df.replace(\"Sudan (former)\", \"Sudan\", inplace=True)"
   ]
  },
  {
   "cell_type": "markdown",
   "id": "9b15aba0",
   "metadata": {},
   "source": [
    "## Replace Diacritics"
   ]
  },
  {
   "cell_type": "code",
   "execution_count": null,
   "id": "9c268f67",
   "metadata": {},
   "outputs": [],
   "source": [
    "# Replace diacritics\n",
    "replace_dict = {\n",
    "    \"Côte d'Ivoire\": \"Cote d'Ivoire\",\n",
    "    \"Réunion\": \"Reunion\",\n",
    "    \"Türkiye\": \"Turkiye\"\n",
    "}\n",
    "\n",
    "df.replace(replace_dict, inplace=True)"
   ]
  },
  {
   "cell_type": "markdown",
   "id": "83f1da08",
   "metadata": {},
   "source": [
    "## Final Edits "
   ]
  },
  {
   "cell_type": "code",
   "execution_count": null,
   "id": "625e352f",
   "metadata": {},
   "outputs": [],
   "source": [
    "# Final edits\n",
    "df.rename(columns={'variable': 'Year'}, inplace=True)\n",
    "df['Year'] = df['Year'].str.replace('Y', '')"
   ]
  },
  {
   "cell_type": "markdown",
   "id": "4af54f53",
   "metadata": {},
   "source": [
    "## Print the DataFrame in CSV"
   ]
  },
  {
   "cell_type": "code",
   "execution_count": null,
   "id": "21aacb7b",
   "metadata": {},
   "outputs": [],
   "source": [
    "# Export the DataFrame to a new CSV file named \"Crop Tableau Data\".csv\"\n",
    "df.to_csv('Crop_for_Tableau.csv', index=False)\n",
    "\n",
    "print(df)"
   ]
  }
 ],
 "metadata": {
  "kernelspec": {
   "display_name": "Python 3 (ipykernel)",
   "language": "python",
   "name": "python3"
  },
  "language_info": {
   "codemirror_mode": {
    "name": "ipython",
    "version": 3
   },
   "file_extension": ".py",
   "mimetype": "text/x-python",
   "name": "python",
   "nbconvert_exporter": "python",
   "pygments_lexer": "ipython3",
   "version": "3.11.4"
  }
 },
 "nbformat": 4,
 "nbformat_minor": 5
}
